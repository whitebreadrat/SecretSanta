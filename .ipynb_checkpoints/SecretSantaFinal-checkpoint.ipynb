{
 "cells": [
  {
   "cell_type": "code",
   "execution_count": 41,
   "id": "6d0610f5-0fc6-4203-a749-a664e571f8c7",
   "metadata": {
    "tags": []
   },
   "outputs": [
    {
     "name": "stdout",
     "output_type": "stream",
     "text": [
      "Subject: Ciezar Family Secret Santa Selection \n",
      "\n",
      "Hello Patrick!\n",
      "\n",
      "You are assigned to be the Secret Santa for Cody this year.\n",
      "patrick@thefamilya.ca\n",
      "Email sent to Patrick (patrick@thefamilya.ca) with their assigned pick.\n",
      "Subject: Ciezar Family Secret Santa Selection \n",
      "\n",
      "Hello Sylwia!\n",
      "\n",
      "You are assigned to be the Secret Santa for Karolina this year.\n",
      "sylwia@thefamilya.ca\n",
      "Email sent to Sylwia (sylwia@thefamilya.ca) with their assigned pick.\n",
      "Subject: Ciezar Family Secret Santa Selection \n",
      "\n",
      "Hello Adam!\n",
      "\n",
      "You are assigned to be the Secret Santa for Paulina this year.\n",
      "kusekadas@gmail.com\n",
      "Email sent to Adam (kusekadas@gmail.com) with their assigned pick.\n",
      "Subject: Ciezar Family Secret Santa Selection \n",
      "\n",
      "Hello Iwona!\n",
      "\n",
      "You are assigned to be the Secret Santa for Adam this year.\n",
      "iwonac@hotmail.ca\n",
      "Email sent to Iwona (iwonac@hotmail.ca) with their assigned pick.\n",
      "Subject: Ciezar Family Secret Santa Selection \n",
      "\n",
      "Hello Karolina!\n",
      "\n",
      "You are assigned to be the Secret Santa for Sylwia this year.\n",
      "karolina.ciezar@gmail.com\n",
      "Email sent to Karolina (karolina.ciezar@gmail.com) with their assigned pick.\n",
      "Subject: Ciezar Family Secret Santa Selection \n",
      "\n",
      "Hello Paulina!\n",
      "\n",
      "You are assigned to be the Secret Santa for Iwona this year.\n",
      "pciezar@hotmail.com\n",
      "Email sent to Paulina (pciezar@hotmail.com) with their assigned pick.\n",
      "Subject: Ciezar Family Secret Santa Selection \n",
      "\n",
      "Hello Cody!\n",
      "\n",
      "You are assigned to be the Secret Santa for Patrick this year.\n",
      "cody.tomiyama@gmail.com\n",
      "Email sent to Cody (cody.tomiyama@gmail.com) with their assigned pick.\n"
     ]
    }
   ],
   "source": [
    "import smtplib\n",
    "import random\n",
    "import pandas as pd\n",
    "\n",
    "\n",
    "# Enter your email and password for the sender's email account\n",
    "sender_email = \"pautilmailer@gmail.com\"\n",
    "password = \"imzz pytq uwhk aapa\"\n",
    "\n",
    "# Read participant data from the CSV file\n",
    "\n",
    "df=pd.read_csv('secret_santa.csv')\n",
    "participants = list(df.columns.values)\n",
    "fb1 = df.loc[0,:].tolist() #list of last years partner, no repeats\n",
    "fb2 = df.loc[1,:].tolist() #list of husband/wife, etc for removal\n",
    "email = df.loc[2,:].tolist() #list of email addresses\n",
    "\n",
    "receivers = []\n",
    "for i in range(0, len(participants)):\n",
    "    p1 = participants.copy()\n",
    "    del p1[i]\n",
    "    p1.remove(fb1[i])\n",
    "    p2 = fb2[i] \n",
    "    if p2 in p1:\n",
    "        p1.remove(fb2[i])\n",
    "    p1\n",
    "    receivers.append(p1)\n",
    "\n",
    "taken = []                      # For keeping track of who has been assigned to a 'giver'.\n",
    "pairings = {}                   # Dictionary for giver-to-receiver pairings.\n",
    " \n",
    "start = random.choice(receivers[0])\n",
    "taken.append(start)\n",
    "pairings[participants[0]] = start\n",
    " \n",
    "while len(taken) < len(participants):\n",
    "    for i in range(1,len(participants)):\n",
    "        possible = receivers[i]\n",
    "        try:\n",
    "            possible = [x for x in possible if x not in taken]\n",
    "            chosen = random.choice(possible)\n",
    "            taken.append(chosen)\n",
    "            pairings[participants[i]] = chosen\n",
    "        except:\n",
    "            taken = [taken[0]]\n",
    "            break\n",
    " \n",
    "#for k,v in pairings.items():\n",
    "#    print('%s gives a gift to %s.' % (k,v)) #Hey, don't peek!\n",
    "# Send email to each participant with their assigned pick\n",
    "\n",
    "n=0    #an incrementer for the email\n",
    "for giver in pairings:\n",
    "    giver_name = giver\n",
    "    receiver_name = pairings[giver]\n",
    "    email_address = email[n]\n",
    "    message = f\"Subject: Ciezar Family Secret Santa Selection \\n\\nHello {giver_name}!\\n\\nYou are assigned to be the Secret Santa for {receiver_name} this year.\"\n",
    "#    message = f'Subject: SECRET SANTA TEST EMAIL \\n\\nHello {giver_name}!\\n\\nYou are not yet assigned to be the Secret Santa for anybody this year.' #test email\n",
    "#    print(message) #pieces for testing\n",
    "#    print(email_address) #pieces for testing\n",
    "    n=n+1\n",
    "\n",
    "    # Connect to the email server\n",
    "    server = smtplib.SMTP(\"smtp.gmail.com\", 587)\n",
    "    server.starttls()\n",
    "    server.login(sender_email, password)\n",
    "\n",
    "    # Send the email\n",
    "    server.sendmail(sender_email, email_address, message)\n",
    "    server.quit()\n",
    "\n",
    "    print(f\"Email sent to {giver_name} ({email_address}) with their assigned pick.\")\n",
    "#generate a new input file with the selections for this round.\n",
    "outputdf = pd.DataFrame(list(zip(participants, newold, fb2, email))).T\n",
    "outputdf.to_csv('output.csv', index = False, header = False)"
   ]
  },
  {
   "cell_type": "code",
   "execution_count": 4,
   "id": "605675d8-68f0-421a-8f7c-9867128b9127",
   "metadata": {},
   "outputs": [
    {
     "data": {
      "text/html": [
       "<div>\n",
       "<style scoped>\n",
       "    .dataframe tbody tr th:only-of-type {\n",
       "        vertical-align: middle;\n",
       "    }\n",
       "\n",
       "    .dataframe tbody tr th {\n",
       "        vertical-align: top;\n",
       "    }\n",
       "\n",
       "    .dataframe thead th {\n",
       "        text-align: right;\n",
       "    }\n",
       "</style>\n",
       "<table border=\"1\" class=\"dataframe\">\n",
       "  <thead>\n",
       "    <tr style=\"text-align: right;\">\n",
       "      <th></th>\n",
       "      <th>Patrick</th>\n",
       "      <th>Sylwia</th>\n",
       "      <th>Adam</th>\n",
       "      <th>Iwona</th>\n",
       "      <th>Karolina</th>\n",
       "      <th>Paulina</th>\n",
       "      <th>Cody</th>\n",
       "    </tr>\n",
       "  </thead>\n",
       "  <tbody>\n",
       "    <tr>\n",
       "      <th>0</th>\n",
       "      <td>Karolina</td>\n",
       "      <td>Adam</td>\n",
       "      <td>Cody</td>\n",
       "      <td>Sylwia</td>\n",
       "      <td>Iwona</td>\n",
       "      <td>Patrick</td>\n",
       "      <td>Paulina</td>\n",
       "    </tr>\n",
       "    <tr>\n",
       "      <th>1</th>\n",
       "      <td>Sylwia</td>\n",
       "      <td>Patrick</td>\n",
       "      <td>Iwona</td>\n",
       "      <td>Adam</td>\n",
       "      <td>Cody</td>\n",
       "      <td>NaN</td>\n",
       "      <td>Karolina</td>\n",
       "    </tr>\n",
       "    <tr>\n",
       "      <th>2</th>\n",
       "      <td>patrick@thefamilya.ca</td>\n",
       "      <td>sylwia@thefamilya.ca</td>\n",
       "      <td>kusekadas@gmail.com</td>\n",
       "      <td>iwonac@hotmail.ca</td>\n",
       "      <td>karolina.ciezar@gmail.com</td>\n",
       "      <td>pciezar@hotmail.com</td>\n",
       "      <td>cody.tomiyama@gmail.com</td>\n",
       "    </tr>\n",
       "  </tbody>\n",
       "</table>\n",
       "</div>"
      ],
      "text/plain": [
       "                 Patrick                Sylwia                 Adam  \\\n",
       "0               Karolina                  Adam                 Cody   \n",
       "1                 Sylwia               Patrick                Iwona   \n",
       "2  patrick@thefamilya.ca  sylwia@thefamilya.ca  kusekadas@gmail.com   \n",
       "\n",
       "               Iwona                   Karolina              Paulina  \\\n",
       "0             Sylwia                      Iwona              Patrick   \n",
       "1               Adam                       Cody                  NaN   \n",
       "2  iwonac@hotmail.ca  karolina.ciezar@gmail.com  pciezar@hotmail.com   \n",
       "\n",
       "                      Cody  \n",
       "0                  Paulina  \n",
       "1                 Karolina  \n",
       "2  cody.tomiyama@gmail.com  "
      ]
     },
     "execution_count": 4,
     "metadata": {},
     "output_type": "execute_result"
    }
   ],
   "source": [
    "df"
   ]
  },
  {
   "cell_type": "code",
   "execution_count": 5,
   "id": "901602f2-294e-4cd2-b3b1-fa683e40a9d0",
   "metadata": {},
   "outputs": [
    {
     "data": {
      "text/plain": [
       "{'Patrick': 'Adam',\n",
       " 'Sylwia': 'Iwona',\n",
       " 'Adam': 'Karolina',\n",
       " 'Iwona': 'Patrick',\n",
       " 'Karolina': 'Paulina',\n",
       " 'Paulina': 'Cody',\n",
       " 'Cody': 'Sylwia'}"
      ]
     },
     "execution_count": 5,
     "metadata": {},
     "output_type": "execute_result"
    }
   ],
   "source": [
    "pairings"
   ]
  },
  {
   "cell_type": "code",
   "execution_count": 8,
   "id": "d9f2aaa2-0e03-45b8-817e-77a6f3ee94bb",
   "metadata": {},
   "outputs": [
    {
     "data": {
      "text/plain": [
       "['Adam', 'Iwona', 'Karolina', 'Patrick', 'Paulina', 'Cody', 'Sylwia']"
      ]
     },
     "execution_count": 8,
     "metadata": {},
     "output_type": "execute_result"
    }
   ],
   "source": [
    "list(pairings.values())"
   ]
  },
  {
   "cell_type": "code",
   "execution_count": 9,
   "id": "554fb0cf-d438-43c1-b750-2e2dc047f602",
   "metadata": {},
   "outputs": [],
   "source": [
    "newold=list(pairings.values())"
   ]
  },
  {
   "cell_type": "code",
   "execution_count": 10,
   "id": "d790f1a5-64a0-4e43-a556-3555367bf28d",
   "metadata": {},
   "outputs": [
    {
     "data": {
      "text/plain": [
       "['Adam', 'Iwona', 'Karolina', 'Patrick', 'Paulina', 'Cody', 'Sylwia']"
      ]
     },
     "execution_count": 10,
     "metadata": {},
     "output_type": "execute_result"
    }
   ],
   "source": [
    "newold"
   ]
  },
  {
   "cell_type": "code",
   "execution_count": 11,
   "id": "0f575b14-fc3e-45aa-a60c-7d6cd8aa84d1",
   "metadata": {},
   "outputs": [],
   "source": [
    "df2=df.copy()"
   ]
  },
  {
   "cell_type": "code",
   "execution_count": 16,
   "id": "6b3539fb-f306-4ef1-a5e9-570ccdc2a26b",
   "metadata": {},
   "outputs": [
    {
     "data": {
      "text/html": [
       "<div>\n",
       "<style scoped>\n",
       "    .dataframe tbody tr th:only-of-type {\n",
       "        vertical-align: middle;\n",
       "    }\n",
       "\n",
       "    .dataframe tbody tr th {\n",
       "        vertical-align: top;\n",
       "    }\n",
       "\n",
       "    .dataframe thead th {\n",
       "        text-align: right;\n",
       "    }\n",
       "</style>\n",
       "<table border=\"1\" class=\"dataframe\">\n",
       "  <thead>\n",
       "    <tr style=\"text-align: right;\">\n",
       "      <th></th>\n",
       "      <th>Patrick</th>\n",
       "      <th>Sylwia</th>\n",
       "      <th>Adam</th>\n",
       "      <th>Iwona</th>\n",
       "      <th>Karolina</th>\n",
       "      <th>Paulina</th>\n",
       "      <th>Cody</th>\n",
       "    </tr>\n",
       "  </thead>\n",
       "  <tbody>\n",
       "    <tr>\n",
       "      <th>0</th>\n",
       "      <td>Karolina</td>\n",
       "      <td>Adam</td>\n",
       "      <td>Cody</td>\n",
       "      <td>Sylwia</td>\n",
       "      <td>Iwona</td>\n",
       "      <td>Patrick</td>\n",
       "      <td>Paulina</td>\n",
       "    </tr>\n",
       "    <tr>\n",
       "      <th>1</th>\n",
       "      <td>Sylwia</td>\n",
       "      <td>Patrick</td>\n",
       "      <td>Iwona</td>\n",
       "      <td>Adam</td>\n",
       "      <td>Cody</td>\n",
       "      <td>NaN</td>\n",
       "      <td>Karolina</td>\n",
       "    </tr>\n",
       "    <tr>\n",
       "      <th>2</th>\n",
       "      <td>patrick@thefamilya.ca</td>\n",
       "      <td>sylwia@thefamilya.ca</td>\n",
       "      <td>kusekadas@gmail.com</td>\n",
       "      <td>iwonac@hotmail.ca</td>\n",
       "      <td>karolina.ciezar@gmail.com</td>\n",
       "      <td>pciezar@hotmail.com</td>\n",
       "      <td>cody.tomiyama@gmail.com</td>\n",
       "    </tr>\n",
       "  </tbody>\n",
       "</table>\n",
       "</div>"
      ],
      "text/plain": [
       "                 Patrick                Sylwia                 Adam  \\\n",
       "0               Karolina                  Adam                 Cody   \n",
       "1                 Sylwia               Patrick                Iwona   \n",
       "2  patrick@thefamilya.ca  sylwia@thefamilya.ca  kusekadas@gmail.com   \n",
       "\n",
       "               Iwona                   Karolina              Paulina  \\\n",
       "0             Sylwia                      Iwona              Patrick   \n",
       "1               Adam                       Cody                  NaN   \n",
       "2  iwonac@hotmail.ca  karolina.ciezar@gmail.com  pciezar@hotmail.com   \n",
       "\n",
       "                      Cody  \n",
       "0                  Paulina  \n",
       "1                 Karolina  \n",
       "2  cody.tomiyama@gmail.com  "
      ]
     },
     "execution_count": 16,
     "metadata": {},
     "output_type": "execute_result"
    }
   ],
   "source": [
    "df2"
   ]
  },
  {
   "cell_type": "code",
   "execution_count": 15,
   "id": "e3877f1e-0165-47dc-93ab-8412d3481827",
   "metadata": {},
   "outputs": [
    {
     "data": {
      "text/plain": [
       "Patrick     Karolina\n",
       "Sylwia          Adam\n",
       "Adam            Cody\n",
       "Iwona         Sylwia\n",
       "Karolina       Iwona\n",
       "Paulina      Patrick\n",
       "Cody         Paulina\n",
       "Name: 0, dtype: object"
      ]
     },
     "execution_count": 15,
     "metadata": {},
     "output_type": "execute_result"
    }
   ],
   "source": [
    "df2.iloc[0]"
   ]
  },
  {
   "cell_type": "code",
   "execution_count": 25,
   "id": "59e47fe5-ff4a-474f-a8c7-bebe521097ea",
   "metadata": {},
   "outputs": [
    {
     "ename": "TypeError",
     "evalue": "list() takes no keyword arguments",
     "output_type": "error",
     "traceback": [
      "\u001b[1;31m---------------------------------------------------------------------------\u001b[0m",
      "\u001b[1;31mTypeError\u001b[0m                                 Traceback (most recent call last)",
      "Input \u001b[1;32mIn [25]\u001b[0m, in \u001b[0;36m<cell line: 1>\u001b[1;34m()\u001b[0m\n\u001b[1;32m----> 1\u001b[0m mydf \u001b[38;5;241m=\u001b[39m pd\u001b[38;5;241m.\u001b[39mDataFrame(\u001b[38;5;28;43mlist\u001b[39;49m\u001b[43m(\u001b[49m\u001b[38;5;28;43mzip\u001b[39;49m\u001b[43m(\u001b[49m\u001b[43mnewold\u001b[49m\u001b[43m,\u001b[49m\u001b[43m \u001b[49m\u001b[43mfb2\u001b[49m\u001b[43m,\u001b[49m\u001b[43m \u001b[49m\u001b[43memail\u001b[49m\u001b[43m)\u001b[49m\u001b[43m,\u001b[49m\u001b[43m \u001b[49m\u001b[43mcolumns\u001b[49m\u001b[43m \u001b[49m\u001b[38;5;241;43m=\u001b[39;49m\u001b[43m \u001b[49m\u001b[43mparticipants\u001b[49m\u001b[43m)\u001b[49m)\n",
      "\u001b[1;31mTypeError\u001b[0m: list() takes no keyword arguments"
     ]
    }
   ],
   "source": [
    "mydf = pd.DataFrame(list(zip(newold, fb2, email), columns = participants))"
   ]
  },
  {
   "cell_type": "code",
   "execution_count": 28,
   "id": "58e69867-3582-4fe4-b3dc-141358dd4598",
   "metadata": {},
   "outputs": [],
   "source": [
    "new = list(zip(participants, newold, fb2, email))"
   ]
  },
  {
   "cell_type": "code",
   "execution_count": 29,
   "id": "40f32ce5-8e33-4389-99f0-96e372437b7f",
   "metadata": {},
   "outputs": [
    {
     "data": {
      "text/plain": [
       "[('Patrick', 'Adam', 'Sylwia', 'patrick@thefamilya.ca'),\n",
       " ('Sylwia', 'Iwona', 'Patrick', 'sylwia@thefamilya.ca'),\n",
       " ('Adam', 'Karolina', 'Iwona', 'kusekadas@gmail.com'),\n",
       " ('Iwona', 'Patrick', 'Adam', 'iwonac@hotmail.ca'),\n",
       " ('Karolina', 'Paulina', 'Cody', 'karolina.ciezar@gmail.com'),\n",
       " ('Paulina', 'Cody', nan, 'pciezar@hotmail.com'),\n",
       " ('Cody', 'Sylwia', 'Karolina', 'cody.tomiyama@gmail.com')]"
      ]
     },
     "execution_count": 29,
     "metadata": {},
     "output_type": "execute_result"
    }
   ],
   "source": [
    "new"
   ]
  },
  {
   "cell_type": "code",
   "execution_count": 38,
   "id": "963180b9-d702-470f-8bfa-e976b9108a05",
   "metadata": {},
   "outputs": [],
   "source": [
    "df5 = pd.DataFrame(list(zip(participants, newold, fb2, email))).T"
   ]
  },
  {
   "cell_type": "code",
   "execution_count": 39,
   "id": "a7231d6f-f887-4cc9-af31-e3821eef1b2f",
   "metadata": {},
   "outputs": [
    {
     "data": {
      "text/html": [
       "<div>\n",
       "<style scoped>\n",
       "    .dataframe tbody tr th:only-of-type {\n",
       "        vertical-align: middle;\n",
       "    }\n",
       "\n",
       "    .dataframe tbody tr th {\n",
       "        vertical-align: top;\n",
       "    }\n",
       "\n",
       "    .dataframe thead th {\n",
       "        text-align: right;\n",
       "    }\n",
       "</style>\n",
       "<table border=\"1\" class=\"dataframe\">\n",
       "  <thead>\n",
       "    <tr style=\"text-align: right;\">\n",
       "      <th></th>\n",
       "      <th>0</th>\n",
       "      <th>1</th>\n",
       "      <th>2</th>\n",
       "      <th>3</th>\n",
       "      <th>4</th>\n",
       "      <th>5</th>\n",
       "      <th>6</th>\n",
       "    </tr>\n",
       "  </thead>\n",
       "  <tbody>\n",
       "    <tr>\n",
       "      <th>0</th>\n",
       "      <td>Patrick</td>\n",
       "      <td>Sylwia</td>\n",
       "      <td>Adam</td>\n",
       "      <td>Iwona</td>\n",
       "      <td>Karolina</td>\n",
       "      <td>Paulina</td>\n",
       "      <td>Cody</td>\n",
       "    </tr>\n",
       "    <tr>\n",
       "      <th>1</th>\n",
       "      <td>Adam</td>\n",
       "      <td>Iwona</td>\n",
       "      <td>Karolina</td>\n",
       "      <td>Patrick</td>\n",
       "      <td>Paulina</td>\n",
       "      <td>Cody</td>\n",
       "      <td>Sylwia</td>\n",
       "    </tr>\n",
       "    <tr>\n",
       "      <th>2</th>\n",
       "      <td>Sylwia</td>\n",
       "      <td>Patrick</td>\n",
       "      <td>Iwona</td>\n",
       "      <td>Adam</td>\n",
       "      <td>Cody</td>\n",
       "      <td>NaN</td>\n",
       "      <td>Karolina</td>\n",
       "    </tr>\n",
       "    <tr>\n",
       "      <th>3</th>\n",
       "      <td>patrick@thefamilya.ca</td>\n",
       "      <td>sylwia@thefamilya.ca</td>\n",
       "      <td>kusekadas@gmail.com</td>\n",
       "      <td>iwonac@hotmail.ca</td>\n",
       "      <td>karolina.ciezar@gmail.com</td>\n",
       "      <td>pciezar@hotmail.com</td>\n",
       "      <td>cody.tomiyama@gmail.com</td>\n",
       "    </tr>\n",
       "  </tbody>\n",
       "</table>\n",
       "</div>"
      ],
      "text/plain": [
       "                       0                     1                    2  \\\n",
       "0                Patrick                Sylwia                 Adam   \n",
       "1                   Adam                 Iwona             Karolina   \n",
       "2                 Sylwia               Patrick                Iwona   \n",
       "3  patrick@thefamilya.ca  sylwia@thefamilya.ca  kusekadas@gmail.com   \n",
       "\n",
       "                   3                          4                    5  \\\n",
       "0              Iwona                   Karolina              Paulina   \n",
       "1            Patrick                    Paulina                 Cody   \n",
       "2               Adam                       Cody                  NaN   \n",
       "3  iwonac@hotmail.ca  karolina.ciezar@gmail.com  pciezar@hotmail.com   \n",
       "\n",
       "                         6  \n",
       "0                     Cody  \n",
       "1                   Sylwia  \n",
       "2                 Karolina  \n",
       "3  cody.tomiyama@gmail.com  "
      ]
     },
     "execution_count": 39,
     "metadata": {},
     "output_type": "execute_result"
    }
   ],
   "source": [
    "df5"
   ]
  },
  {
   "cell_type": "code",
   "execution_count": 32,
   "id": "1857beec-1353-4aac-b0b5-a3930c616ba3",
   "metadata": {},
   "outputs": [],
   "source": [
    "df4 = df3.T"
   ]
  },
  {
   "cell_type": "code",
   "execution_count": 33,
   "id": "ca3a5b32-0446-4349-8399-6267018244bf",
   "metadata": {},
   "outputs": [
    {
     "data": {
      "text/html": [
       "<div>\n",
       "<style scoped>\n",
       "    .dataframe tbody tr th:only-of-type {\n",
       "        vertical-align: middle;\n",
       "    }\n",
       "\n",
       "    .dataframe tbody tr th {\n",
       "        vertical-align: top;\n",
       "    }\n",
       "\n",
       "    .dataframe thead th {\n",
       "        text-align: right;\n",
       "    }\n",
       "</style>\n",
       "<table border=\"1\" class=\"dataframe\">\n",
       "  <thead>\n",
       "    <tr style=\"text-align: right;\">\n",
       "      <th></th>\n",
       "      <th>0</th>\n",
       "      <th>1</th>\n",
       "      <th>2</th>\n",
       "      <th>3</th>\n",
       "      <th>4</th>\n",
       "      <th>5</th>\n",
       "      <th>6</th>\n",
       "    </tr>\n",
       "  </thead>\n",
       "  <tbody>\n",
       "    <tr>\n",
       "      <th>0</th>\n",
       "      <td>Patrick</td>\n",
       "      <td>Sylwia</td>\n",
       "      <td>Adam</td>\n",
       "      <td>Iwona</td>\n",
       "      <td>Karolina</td>\n",
       "      <td>Paulina</td>\n",
       "      <td>Cody</td>\n",
       "    </tr>\n",
       "    <tr>\n",
       "      <th>1</th>\n",
       "      <td>Adam</td>\n",
       "      <td>Iwona</td>\n",
       "      <td>Karolina</td>\n",
       "      <td>Patrick</td>\n",
       "      <td>Paulina</td>\n",
       "      <td>Cody</td>\n",
       "      <td>Sylwia</td>\n",
       "    </tr>\n",
       "    <tr>\n",
       "      <th>2</th>\n",
       "      <td>Sylwia</td>\n",
       "      <td>Patrick</td>\n",
       "      <td>Iwona</td>\n",
       "      <td>Adam</td>\n",
       "      <td>Cody</td>\n",
       "      <td>NaN</td>\n",
       "      <td>Karolina</td>\n",
       "    </tr>\n",
       "    <tr>\n",
       "      <th>3</th>\n",
       "      <td>patrick@thefamilya.ca</td>\n",
       "      <td>sylwia@thefamilya.ca</td>\n",
       "      <td>kusekadas@gmail.com</td>\n",
       "      <td>iwonac@hotmail.ca</td>\n",
       "      <td>karolina.ciezar@gmail.com</td>\n",
       "      <td>pciezar@hotmail.com</td>\n",
       "      <td>cody.tomiyama@gmail.com</td>\n",
       "    </tr>\n",
       "  </tbody>\n",
       "</table>\n",
       "</div>"
      ],
      "text/plain": [
       "                       0                     1                    2  \\\n",
       "0                Patrick                Sylwia                 Adam   \n",
       "1                   Adam                 Iwona             Karolina   \n",
       "2                 Sylwia               Patrick                Iwona   \n",
       "3  patrick@thefamilya.ca  sylwia@thefamilya.ca  kusekadas@gmail.com   \n",
       "\n",
       "                   3                          4                    5  \\\n",
       "0              Iwona                   Karolina              Paulina   \n",
       "1            Patrick                    Paulina                 Cody   \n",
       "2               Adam                       Cody                  NaN   \n",
       "3  iwonac@hotmail.ca  karolina.ciezar@gmail.com  pciezar@hotmail.com   \n",
       "\n",
       "                         6  \n",
       "0                     Cody  \n",
       "1                   Sylwia  \n",
       "2                 Karolina  \n",
       "3  cody.tomiyama@gmail.com  "
      ]
     },
     "execution_count": 33,
     "metadata": {},
     "output_type": "execute_result"
    }
   ],
   "source": [
    "df4"
   ]
  },
  {
   "cell_type": "code",
   "execution_count": 37,
   "id": "09216a22-7c61-4182-90f0-343ba8d9f9a7",
   "metadata": {},
   "outputs": [],
   "source": [
    "df4.to_csv('output.csv', index = False, header = False)"
   ]
  }
 ],
 "metadata": {
  "kernelspec": {
   "display_name": "Python 3 (ipykernel)",
   "language": "python",
   "name": "python3"
  },
  "language_info": {
   "codemirror_mode": {
    "name": "ipython",
    "version": 3
   },
   "file_extension": ".py",
   "mimetype": "text/x-python",
   "name": "python",
   "nbconvert_exporter": "python",
   "pygments_lexer": "ipython3",
   "version": "3.9.12"
  }
 },
 "nbformat": 4,
 "nbformat_minor": 5
}
