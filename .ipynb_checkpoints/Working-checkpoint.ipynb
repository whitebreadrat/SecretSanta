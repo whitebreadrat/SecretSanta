{
 "cells": [
  {
   "cell_type": "code",
   "execution_count": 82,
   "id": "6d0610f5-0fc6-4203-a749-a664e571f8c7",
   "metadata": {
    "tags": []
   },
   "outputs": [
    {
     "name": "stdout",
     "output_type": "stream",
     "text": [
      "Patrick gives a gift to Cody.\n",
      "Sylwia gives a gift to Karolina.\n",
      "Adam gives a gift to Paulina.\n",
      "Iwona gives a gift to Patrick.\n",
      "Karolina gives a gift to Adam.\n",
      "Paulina gives a gift to Sylwia.\n",
      "Cody gives a gift to Iwona.\n",
      "SECRET SANTA TEST EMAIL \n",
      "\n",
      "Hello Patrick!\n",
      "\n",
      "You are not yet assigned to be the Secret Santa for anybody this year.\n",
      "patrick@thefamilya.ca\n",
      "Email sent to Patrick (patrick@thefamilya.ca) with their assigned pick.\n",
      "SECRET SANTA TEST EMAIL \n",
      "\n",
      "Hello Sylwia!\n",
      "\n",
      "You are not yet assigned to be the Secret Santa for anybody this year.\n",
      "sylwia@thefamilya.ca\n",
      "Email sent to Sylwia (sylwia@thefamilya.ca) with their assigned pick.\n",
      "SECRET SANTA TEST EMAIL \n",
      "\n",
      "Hello Adam!\n",
      "\n",
      "You are not yet assigned to be the Secret Santa for anybody this year.\n",
      "sliczny@mail.com\n",
      "Email sent to Adam (sliczny@mail.com) with their assigned pick.\n",
      "SECRET SANTA TEST EMAIL \n",
      "\n",
      "Hello Iwona!\n",
      "\n",
      "You are not yet assigned to be the Secret Santa for anybody this year.\n",
      "iwonac@hotmail.com\n",
      "Email sent to Iwona (iwonac@hotmail.com) with their assigned pick.\n",
      "SECRET SANTA TEST EMAIL \n",
      "\n",
      "Hello Karolina!\n",
      "\n",
      "You are not yet assigned to be the Secret Santa for anybody this year.\n",
      "karolina.ciezar@gmail.com\n",
      "Email sent to Karolina (karolina.ciezar@gmail.com) with their assigned pick.\n",
      "SECRET SANTA TEST EMAIL \n",
      "\n",
      "Hello Paulina!\n",
      "\n",
      "You are not yet assigned to be the Secret Santa for anybody this year.\n",
      "pciezar@hotmail.com\n",
      "Email sent to Paulina (pciezar@hotmail.com) with their assigned pick.\n",
      "SECRET SANTA TEST EMAIL \n",
      "\n",
      "Hello Cody!\n",
      "\n",
      "You are not yet assigned to be the Secret Santa for anybody this year.\n",
      "cody.tomiyama@gmail.com\n",
      "Email sent to Cody (cody.tomiyama@gmail.com) with their assigned pick.\n"
     ]
    }
   ],
   "source": [
    "import smtplib\n",
    "import random\n",
    "import pandas as pd\n",
    "\n",
    "\n",
    "# Enter your email and password for the sender's email account\n",
    "sender_email = \"pautilmailer@gmail.com\"\n",
    "password = \"imzz pytq uwhk aapa\"\n",
    "\n",
    "# Read participant data from the CSV file\n",
    "\n",
    "df=pd.read_csv('secret_santa.csv')\n",
    "participants = list(df.columns.values)\n",
    "fb1 = df.loc[0,:].tolist() #list of last years partner, no repeats\n",
    "fb2 = df.loc[1,:].tolist() #list of husband/wife, etc for removal\n",
    "email = df.loc[2,:].tolist() #list of email addresses\n",
    "#workinglist = participants.copy()\n",
    "\n",
    "receivers = []\n",
    "for i in range(0, len(participants)):\n",
    "    p1 = participants.copy()\n",
    "    del p1[i]\n",
    "    p1.remove(fb1[i])\n",
    "    p2 = fb2[i] \n",
    "    if p2 in p1:\n",
    "        p1.remove(fb2[i])\n",
    "    p1\n",
    "    receivers.append(p1)\n",
    "\n",
    "taken = []                      # For keeping track of who has been assigned to a 'giver'.\n",
    "pairings = {}                   # Dictionary for giver-to-receiver pairings.\n",
    " \n",
    "start = random.choice(receivers[0])\n",
    "taken.append(start)\n",
    "pairings[participants[0]] = start\n",
    " \n",
    "while len(taken) < len(participants):\n",
    "    for i in range(1,len(participants)):\n",
    "        possible = receivers[i]\n",
    "        try:\n",
    "            possible = [x for x in possible if x not in taken]\n",
    "            chosen = random.choice(possible)\n",
    "            taken.append(chosen)\n",
    "            pairings[participants[i]] = chosen\n",
    "        except:\n",
    "            taken = [taken[0]]\n",
    "            break\n",
    " \n",
    "for k,v in pairings.items():\n",
    "    print('%s gives a gift to %s.' % (k,v))\n",
    "#if good, generate emails, else reshuffle\n",
    "\n",
    "\n",
    "\n",
    "# # Generate Secret Santa pairs\n",
    "# pairs = zip(participants, participants[1:] + [participants[0]])\n",
    "\n",
    "# # Send email to each participant with their assigned pick\n",
    "n=0\n",
    "# for giver, receiver in pairings:\n",
    "#     giver_name = giver[\"name\"]\n",
    "#     giver_email = email[n]\n",
    "#     receiver_name = receiver[\"name\"]\n",
    "\n",
    "#     message = f\"Hello {giver_name}!\\n\\nYou are assigned to be the Secret Santa for {receiver_name} this year.\"\n",
    "#     print(message)\n",
    "#     print(email)\n",
    "    \n",
    "for giver in pairings:\n",
    "    giver_name = giver\n",
    "    receiver_name = pairings[giver]\n",
    "    email_address = email[n]\n",
    "#    message = f\"TESTING NOT THE OFFICIAL EMAIL Hello {giver_name}!\\n\\nYou are assigned to be the Secret Santa for {receiver_name} this year.\"\n",
    "    message = f\"SECRET SANTA TEST EMAIL \\n\\nHello {giver_name}!\\n\\nYou are not yet assigned to be the Secret Santa for anybody this year.\"\n",
    "    print(message)\n",
    "    print(email_address)\n",
    "    subj = \"Ciezar Family Secret Santa\"\n",
    "    n=n+1\n",
    "    # Connect to the email server\n",
    "    server = smtplib.SMTP(\"smtp.gmail.com\", 587)\n",
    "    server.starttls()\n",
    "    server.login(sender_email, password)\n",
    "\n",
    "    # Send the email\n",
    "    server.sendmail(sender_email, email_address, subj, message)\n",
    "    server.quit()\n",
    "\n",
    "    print(f\"Email sent to {giver_name} ({email_address}) with their assigned pick.\")\n"
   ]
  },
  {
   "cell_type": "code",
   "execution_count": 62,
   "id": "605675d8-68f0-421a-8f7c-9867128b9127",
   "metadata": {},
   "outputs": [],
   "source": [
    "maillist = pairings.copy()"
   ]
  },
  {
   "cell_type": "code",
   "execution_count": 78,
   "id": "901602f2-294e-4cd2-b3b1-fa683e40a9d0",
   "metadata": {},
   "outputs": [
    {
     "data": {
      "text/plain": [
       "'sylwia@thefamilya.ca'"
      ]
     },
     "execution_count": 78,
     "metadata": {},
     "output_type": "execute_result"
    }
   ],
   "source": [
    "email[1]"
   ]
  },
  {
   "cell_type": "code",
   "execution_count": 47,
   "id": "d9f2aaa2-0e03-45b8-817e-77a6f3ee94bb",
   "metadata": {},
   "outputs": [
    {
     "data": {
      "text/plain": [
       "['Patrick', 'Sylwia', 'Adam', 'Iwona', 'Karolina', 'Paulina', 'Cody']"
      ]
     },
     "execution_count": 47,
     "metadata": {},
     "output_type": "execute_result"
    }
   ],
   "source": [
    "participants"
   ]
  },
  {
   "cell_type": "code",
   "execution_count": 11,
   "id": "554fb0cf-d438-43c1-b750-2e2dc047f602",
   "metadata": {},
   "outputs": [
    {
     "data": {
      "text/plain": [
       "['Karolina', 'Adam', 'Cody', 'Sylwia', 'Iwona', 'Patrick', 'Paulina']"
      ]
     },
     "execution_count": 11,
     "metadata": {},
     "output_type": "execute_result"
    }
   ],
   "source": [
    "fb1"
   ]
  },
  {
   "cell_type": "code",
   "execution_count": 12,
   "id": "d790f1a5-64a0-4e43-a556-3555367bf28d",
   "metadata": {},
   "outputs": [
    {
     "data": {
      "text/plain": [
       "['Sylwia', 'Patrick', 'Iwona', 'Adam', 'Cody', nan, 'Karolina']"
      ]
     },
     "execution_count": 12,
     "metadata": {},
     "output_type": "execute_result"
    }
   ],
   "source": [
    "fb2"
   ]
  },
  {
   "cell_type": "code",
   "execution_count": 13,
   "id": "0f575b14-fc3e-45aa-a60c-7d6cd8aa84d1",
   "metadata": {},
   "outputs": [
    {
     "data": {
      "text/plain": [
       "['patrick@thefamilya.ca',\n",
       " 'sylwia@thefamilya.ca',\n",
       " 'sliczny@mail.com',\n",
       " 'iwonac@hotmail.com',\n",
       " 'karolina.ciezar@gmail.com',\n",
       " 'pciezar@hotmail.com',\n",
       " 'cody.tomiyama@gmail.com']"
      ]
     },
     "execution_count": 13,
     "metadata": {},
     "output_type": "execute_result"
    }
   ],
   "source": [
    "email"
   ]
  }
 ],
 "metadata": {
  "kernelspec": {
   "display_name": "Python 3 (ipykernel)",
   "language": "python",
   "name": "python3"
  },
  "language_info": {
   "codemirror_mode": {
    "name": "ipython",
    "version": 3
   },
   "file_extension": ".py",
   "mimetype": "text/x-python",
   "name": "python",
   "nbconvert_exporter": "python",
   "pygments_lexer": "ipython3",
   "version": "3.9.12"
  }
 },
 "nbformat": 4,
 "nbformat_minor": 5
}
